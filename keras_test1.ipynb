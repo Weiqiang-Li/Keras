{
 "cells": [
  {
   "cell_type": "code",
   "execution_count": 1,
   "metadata": {},
   "outputs": [
    {
     "name": "stderr",
     "output_type": "stream",
     "text": [
      "Using TensorFlow backend.\n"
     ]
    }
   ],
   "source": [
    "import tensorflow\n",
    "import keras\n",
    "from keras.layers import Conv2D,MaxPool2D,Dense,Flatten\n",
    "from keras.models import Sequential \n",
    "from keras.datasets import mnist \n",
    "import os"
   ]
  },
  {
   "cell_type": "code",
   "execution_count": 2,
   "metadata": {},
   "outputs": [],
   "source": [
    "# 载入数据\n",
    "(x_train, y_train), (x_test,y_test) =mnist.load_data(os.path.abspath('.')+\"/.keras/datasets/mnist.npz\") # 存在时不下载"
   ]
  },
  {
   "cell_type": "code",
   "execution_count": 3,
   "metadata": {},
   "outputs": [],
   "source": [
    "# 数据变换\n",
    "x_train = x_train.reshape(-1,28,28,1) # s数据变形，变成图片形式\n",
    "x_test = x_test.reshape(-1,28,28,1)\n",
    "x_train = x_train/255 # 缩放到0-1之间\n",
    "x_test = x_test/255\n",
    "y_train = keras.utils.to_categorical(y_train) # on_hot encoding 处理\n",
    "y_test = keras.utils.to_categorical(y_test)"
   ]
  },
  {
   "cell_type": "code",
   "execution_count": 6,
   "metadata": {},
   "outputs": [],
   "source": [
    "# 构建模型，添加组件，设置参数\n",
    "lenet = Sequential() # 序贯式编程\n",
    "lenet.add(Conv2D(6,kernel_size=3,strides=1,padding='same',input_shape=(28,28,1)))\n",
    "lenet.add(MaxPool2D(pool_size=2,strides=2))\n",
    "lenet.add(Conv2D(16,kernel_size=5,strides=1,padding='valid'))\n",
    "lenet.add(MaxPool2D(pool_size=2,strides=2))\n",
    "lenet.add(Flatten()) #卷积结果是空间的，需要转换为全连接神经的扁平的\n",
    "lenet.add(Dense(120))\n",
    "lenet.add(Dense(84))\n",
    "lenet.add(Dense(10,activation='sigmoid')) # 最后输出层的节点个数代表了分类的种类"
   ]
  },
  {
   "cell_type": "code",
   "execution_count": 7,
   "metadata": {
    "collapsed": true
   },
   "outputs": [],
   "source": [
    "# 模型 fit、evaluate、predict必须要先compile，否则报错\n",
    "lenet.compile('sgd',loss='categorical_crossentropy',metrics=['accuracy'])"
   ]
  },
  {
   "cell_type": "code",
   "execution_count": 8,
   "metadata": {},
   "outputs": [
    {
     "name": "stdout",
     "output_type": "stream",
     "text": [
      "Train on 60000 samples, validate on 10000 samples\n",
      "Epoch 1/50\n",
      "60000/60000 [==============================] - 8s 130us/step - loss: 0.8280 - acc: 0.7621 - val_loss: 0.3342 - val_acc: 0.9028\n",
      "Epoch 2/50\n",
      "60000/60000 [==============================] - 4s 73us/step - loss: 0.2439 - acc: 0.9277 - val_loss: 0.1729 - val_acc: 0.9515\n",
      "Epoch 3/50\n",
      "60000/60000 [==============================] - 5s 82us/step - loss: 0.1655 - acc: 0.9504 - val_loss: 0.2070 - val_acc: 0.9346\n",
      "Epoch 4/50\n",
      "60000/60000 [==============================] - 5s 79us/step - loss: 0.1295 - acc: 0.9622 - val_loss: 0.1164 - val_acc: 0.9643\n",
      "Epoch 5/50\n",
      "60000/60000 [==============================] - 4s 75us/step - loss: 0.1074 - acc: 0.9685 - val_loss: 0.0923 - val_acc: 0.9719\n",
      "Epoch 6/50\n",
      "60000/60000 [==============================] - 5s 77us/step - loss: 0.0934 - acc: 0.9722 - val_loss: 0.0732 - val_acc: 0.9774\n",
      "Epoch 7/50\n",
      "60000/60000 [==============================] - 5s 77us/step - loss: 0.0834 - acc: 0.9748 - val_loss: 0.0715 - val_acc: 0.9775\n",
      "Epoch 8/50\n",
      "60000/60000 [==============================] - 5s 76us/step - loss: 0.0756 - acc: 0.9773 - val_loss: 0.0727 - val_acc: 0.9779\n",
      "Epoch 9/50\n",
      "60000/60000 [==============================] - 5s 80us/step - loss: 0.0705 - acc: 0.9792 - val_loss: 0.0609 - val_acc: 0.9818\n",
      "Epoch 10/50\n",
      "60000/60000 [==============================] - 5s 83us/step - loss: 0.0660 - acc: 0.9801 - val_loss: 0.0664 - val_acc: 0.9772\n",
      "Epoch 11/50\n",
      "60000/60000 [==============================] - 5s 78us/step - loss: 0.0617 - acc: 0.9817 - val_loss: 0.0621 - val_acc: 0.9803\n",
      "Epoch 12/50\n",
      "60000/60000 [==============================] - 4s 71us/step - loss: 0.0588 - acc: 0.9826 - val_loss: 0.0508 - val_acc: 0.9846\n",
      "Epoch 13/50\n",
      "60000/60000 [==============================] - 5s 82us/step - loss: 0.0557 - acc: 0.9830 - val_loss: 0.0702 - val_acc: 0.9787\n",
      "Epoch 14/50\n",
      "60000/60000 [==============================] - 5s 82us/step - loss: 0.0533 - acc: 0.9832 - val_loss: 0.0617 - val_acc: 0.9787\n",
      "Epoch 15/50\n",
      "60000/60000 [==============================] - 5s 81us/step - loss: 0.0517 - acc: 0.9841 - val_loss: 0.0553 - val_acc: 0.9816\n",
      "Epoch 16/50\n",
      "60000/60000 [==============================] - 5s 78us/step - loss: 0.0497 - acc: 0.9849 - val_loss: 0.0495 - val_acc: 0.9839\n",
      "Epoch 17/50\n",
      "60000/60000 [==============================] - 5s 79us/step - loss: 0.0482 - acc: 0.9853 - val_loss: 0.0486 - val_acc: 0.9847\n",
      "Epoch 18/50\n",
      "60000/60000 [==============================] - 4s 74us/step - loss: 0.0457 - acc: 0.9860 - val_loss: 0.0483 - val_acc: 0.9861\n",
      "Epoch 19/50\n",
      "60000/60000 [==============================] - 5s 79us/step - loss: 0.0436 - acc: 0.9862 - val_loss: 0.0496 - val_acc: 0.9848\n",
      "Epoch 20/50\n",
      "60000/60000 [==============================] - 5s 78us/step - loss: 0.0430 - acc: 0.9871 - val_loss: 0.0528 - val_acc: 0.9824\n",
      "Epoch 21/50\n",
      "60000/60000 [==============================] - 5s 82us/step - loss: 0.0419 - acc: 0.9871 - val_loss: 0.0452 - val_acc: 0.9861\n",
      "Epoch 22/50\n",
      "60000/60000 [==============================] - 5s 79us/step - loss: 0.0408 - acc: 0.9873 - val_loss: 0.0463 - val_acc: 0.9852\n",
      "Epoch 23/50\n",
      "60000/60000 [==============================] - 5s 78us/step - loss: 0.0399 - acc: 0.9876 - val_loss: 0.0484 - val_acc: 0.9842\n",
      "Epoch 24/50\n",
      "60000/60000 [==============================] - 5s 84us/step - loss: 0.0384 - acc: 0.9883 - val_loss: 0.0464 - val_acc: 0.9851\n",
      "Epoch 25/50\n",
      "60000/60000 [==============================] - 5s 89us/step - loss: 0.0379 - acc: 0.9884 - val_loss: 0.0493 - val_acc: 0.9836\n",
      "Epoch 26/50\n",
      "60000/60000 [==============================] - 5s 80us/step - loss: 0.0372 - acc: 0.9884 - val_loss: 0.0449 - val_acc: 0.9863\n",
      "Epoch 27/50\n",
      "60000/60000 [==============================] - 5s 77us/step - loss: 0.0359 - acc: 0.9888 - val_loss: 0.0460 - val_acc: 0.9856\n",
      "Epoch 28/50\n",
      "60000/60000 [==============================] - 5s 80us/step - loss: 0.0351 - acc: 0.9892 - val_loss: 0.0467 - val_acc: 0.9842\n",
      "Epoch 29/50\n",
      "60000/60000 [==============================] - 5s 80us/step - loss: 0.0339 - acc: 0.9894 - val_loss: 0.0452 - val_acc: 0.9849\n",
      "Epoch 30/50\n",
      "60000/60000 [==============================] - 5s 80us/step - loss: 0.0323 - acc: 0.9900 - val_loss: 0.0560 - val_acc: 0.9839\n",
      "Epoch 31/50\n",
      "60000/60000 [==============================] - 5s 79us/step - loss: 0.0326 - acc: 0.9899 - val_loss: 0.0544 - val_acc: 0.9829\n",
      "Epoch 32/50\n",
      "60000/60000 [==============================] - 5s 78us/step - loss: 0.0318 - acc: 0.9900 - val_loss: 0.0480 - val_acc: 0.9839\n",
      "Epoch 33/50\n",
      "60000/60000 [==============================] - 5s 77us/step - loss: 0.0305 - acc: 0.9905 - val_loss: 0.0443 - val_acc: 0.9857\n",
      "Epoch 34/50\n",
      "60000/60000 [==============================] - 5s 76us/step - loss: 0.0306 - acc: 0.9905 - val_loss: 0.0441 - val_acc: 0.9861\n",
      "Epoch 35/50\n",
      "60000/60000 [==============================] - 5s 78us/step - loss: 0.0298 - acc: 0.9905 - val_loss: 0.0430 - val_acc: 0.9863\n",
      "Epoch 36/50\n",
      "60000/60000 [==============================] - 5s 80us/step - loss: 0.0292 - acc: 0.9912 - val_loss: 0.0461 - val_acc: 0.9844\n",
      "Epoch 37/50\n",
      "60000/60000 [==============================] - 5s 83us/step - loss: 0.0281 - acc: 0.9914 - val_loss: 0.0469 - val_acc: 0.9857\n",
      "Epoch 38/50\n",
      "60000/60000 [==============================] - 5s 77us/step - loss: 0.0272 - acc: 0.9914 - val_loss: 0.0448 - val_acc: 0.9856\n",
      "Epoch 39/50\n",
      "60000/60000 [==============================] - 5s 80us/step - loss: 0.0270 - acc: 0.9915 - val_loss: 0.0487 - val_acc: 0.9852\n",
      "Epoch 40/50\n",
      "60000/60000 [==============================] - 5s 76us/step - loss: 0.0268 - acc: 0.9915 - val_loss: 0.0470 - val_acc: 0.9855\n",
      "Epoch 41/50\n",
      "60000/60000 [==============================] - 5s 76us/step - loss: 0.0257 - acc: 0.9920 - val_loss: 0.0454 - val_acc: 0.9864\n",
      "Epoch 42/50\n",
      "60000/60000 [==============================] - 5s 78us/step - loss: 0.0253 - acc: 0.9921 - val_loss: 0.0509 - val_acc: 0.9841\n",
      "Epoch 43/50\n",
      "60000/60000 [==============================] - 5s 91us/step - loss: 0.0247 - acc: 0.9923 - val_loss: 0.0475 - val_acc: 0.9846\n",
      "Epoch 44/50\n",
      "60000/60000 [==============================] - 6s 96us/step - loss: 0.0249 - acc: 0.9921 - val_loss: 0.0531 - val_acc: 0.9841\n",
      "Epoch 45/50\n",
      "60000/60000 [==============================] - 5s 81us/step - loss: 0.0236 - acc: 0.9928 - val_loss: 0.0477 - val_acc: 0.9848\n",
      "Epoch 46/50\n",
      "60000/60000 [==============================] - 5s 77us/step - loss: 0.0228 - acc: 0.9929 - val_loss: 0.0498 - val_acc: 0.9848\n",
      "Epoch 47/50\n",
      "60000/60000 [==============================] - 5s 82us/step - loss: 0.0225 - acc: 0.9926 - val_loss: 0.0448 - val_acc: 0.9873\n",
      "Epoch 48/50\n",
      "60000/60000 [==============================] - 5s 79us/step - loss: 0.0221 - acc: 0.9933 - val_loss: 0.0507 - val_acc: 0.9846\n",
      "Epoch 49/50\n",
      "60000/60000 [==============================] - 5s 78us/step - loss: 0.0218 - acc: 0.9928 - val_loss: 0.0473 - val_acc: 0.9856\n",
      "Epoch 50/50\n",
      "60000/60000 [==============================] - 5s 81us/step - loss: 0.0216 - acc: 0.9930 - val_loss: 0.0493 - val_acc: 0.9855\n"
     ]
    },
    {
     "data": {
      "text/plain": [
       "<keras.callbacks.History at 0x241b2528978>"
      ]
     },
     "execution_count": 8,
     "metadata": {},
     "output_type": "execute_result"
    }
   ],
   "source": [
    "# 训练模型\n",
    "lenet.fit(x_train,y_train,batch_size = 64,epochs=50,validation_data=[x_test,y_test])"
   ]
  },
  {
   "cell_type": "code",
   "execution_count": 38,
   "metadata": {
    "collapsed": true
   },
   "outputs": [],
   "source": [
    "# 保存模型\n",
    "lenet.save('keras_test1.h5') # 保存为HDF5文件"
   ]
  },
  {
   "cell_type": "code",
   "execution_count": null,
   "metadata": {
    "collapsed": true
   },
   "outputs": [],
   "source": [
    "help()"
   ]
  }
 ],
 "metadata": {
  "kernelspec": {
   "display_name": "Python 3.6 root",
   "language": "python",
   "name": "python3"
  },
  "language_info": {
   "codemirror_mode": {
    "name": "ipython",
    "version": 3
   },
   "file_extension": ".py",
   "mimetype": "text/x-python",
   "name": "python",
   "nbconvert_exporter": "python",
   "pygments_lexer": "ipython3",
   "version": "3.6.3"
  }
 },
 "nbformat": 4,
 "nbformat_minor": 2
}
