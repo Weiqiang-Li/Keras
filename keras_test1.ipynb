{
 "cells": [
  {
   "cell_type": "code",
   "execution_count": 33,
   "metadata": {},
   "outputs": [],
   "source": [
    "import tensorflow\n",
    "import keras\n",
    "from keras.layers import Conv2D,MaxPool2D,Dense,Flatten\n",
    "from keras.models import Sequential \n",
    "from keras.datasets import mnist "
   ]
  },
  {
   "cell_type": "code",
   "execution_count": 20,
   "metadata": {
    "collapsed": true
   },
   "outputs": [],
   "source": [
    "# 载入数据\n",
    "(x_train, y_train), (x_test,y_test) =mnist.load_data(\"./.keras\") # 存在时不下载"
   ]
  },
  {
   "cell_type": "code",
   "execution_count": 34,
   "metadata": {},
   "outputs": [],
   "source": [
    "# 数据变换\n",
    "x_train = x_train.reshape(-1,28,28,1) # s数据变形，变成图片形式\n",
    "x_test = x_test.reshape(-1,28,28,1)\n",
    "x_train = x_train/255 # 缩放到0-1之间\n",
    "x_test = x_test/255\n",
    "y_train = keras.utils.to_categorical(y_train) # on_hot encoding 处理\n",
    "y_test = keras.utils.to_categorical(y_test)"
   ]
  },
  {
   "cell_type": "code",
   "execution_count": 35,
   "metadata": {},
   "outputs": [],
   "source": [
    "# 构建模型，添加组件，设置参数\n",
    "lenet = Sequential() # 序贯式编程\n",
    "lenet.add(Conv2D(6,kernel_size=3,strides=1,padding='same',input_shape=(28,28,1)))\n",
    "lenet.add(MaxPool2D(pool_size=2,strides=2))\n",
    "lenet.add(Conv2D(16,kernel_size=5,strides=1,padding='valid'))\n",
    "lenet.add(MaxPool2D(pool_size=2,strides=2))\n",
    "lenet.add(Flatten()) #卷积结果是空间的，需要转换为全连接神经的扁平的\n",
    "lenet.add(Dense(120))\n",
    "lenet.add(Dense(84))\n",
    "lenet.add(Dense(10,activation='relu'))"
   ]
  },
  {
   "cell_type": "code",
   "execution_count": 36,
   "metadata": {
    "collapsed": true
   },
   "outputs": [],
   "source": [
    "# 模型 fit、evaluate、predict必须要先compile，否则报错\n",
    "lenet.compile('sgd',loss='categorical_crossentropy',metrics=['accuracy'])"
   ]
  },
  {
   "cell_type": "code",
   "execution_count": 37,
   "metadata": {},
   "outputs": [
    {
     "name": "stdout",
     "output_type": "stream",
     "text": [
      "Train on 60000 samples, validate on 10000 samples\n",
      "Epoch 1/50\n",
      "60000/60000 [==============================] - 9s 152us/step - loss: 8.6386 - acc: 0.2076 - val_loss: 1.8000 - val_acc: 0.5435\n",
      "Epoch 2/50\n",
      "60000/60000 [==============================] - 5s 76us/step - loss: 1.7965 - acc: 0.6452 - val_loss: 1.0165 - val_acc: 0.6303\n",
      "Epoch 3/50\n",
      "60000/60000 [==============================] - 5s 81us/step - loss: 0.9215 - acc: 0.7344 - val_loss: 0.9027 - val_acc: 0.6512\n",
      "Epoch 4/50\n",
      "60000/60000 [==============================] - 5s 78us/step - loss: 1.0385 - acc: 0.7085 - val_loss: 0.7063 - val_acc: 0.8957\n",
      "Epoch 5/50\n",
      "60000/60000 [==============================] - 4s 75us/step - loss: 2.9173 - acc: 0.5679 - val_loss: 10.4729 - val_acc: 0.1115\n",
      "Epoch 6/50\n",
      "60000/60000 [==============================] - 5s 80us/step - loss: 10.3968 - acc: 0.1708 - val_loss: 8.9654 - val_acc: 0.1919\n",
      "Epoch 7/50\n",
      "60000/60000 [==============================] - 5s 75us/step - loss: 8.9736 - acc: 0.2238 - val_loss: 8.8461 - val_acc: 0.2716\n",
      "Epoch 8/50\n",
      "60000/60000 [==============================] - 4s 74us/step - loss: 9.5469 - acc: 0.2334 - val_loss: 8.9079 - val_acc: 0.2236\n",
      "Epoch 9/50\n",
      "60000/60000 [==============================] - 5s 78us/step - loss: 8.9143 - acc: 0.2079 - val_loss: 8.7204 - val_acc: 0.2093\n",
      "Epoch 10/50\n",
      "60000/60000 [==============================] - 5s 76us/step - loss: 7.9028 - acc: 0.2557 - val_loss: 7.5378 - val_acc: 0.2105\n",
      "Epoch 11/50\n",
      "60000/60000 [==============================] - 5s 78us/step - loss: 7.5094 - acc: 0.2574 - val_loss: 7.4198 - val_acc: 0.2788\n",
      "Epoch 12/50\n",
      "60000/60000 [==============================] - 5s 76us/step - loss: 9.8761 - acc: 0.1235 - val_loss: 10.1639 - val_acc: 0.0980\n",
      "Epoch 13/50\n",
      "60000/60000 [==============================] - 4s 75us/step - loss: 10.2066 - acc: 0.0948 - val_loss: 10.1543 - val_acc: 0.0671\n",
      "Epoch 14/50\n",
      "60000/60000 [==============================] - 5s 78us/step - loss: 10.2008 - acc: 0.0548 - val_loss: 10.1496 - val_acc: 0.0559\n",
      "Epoch 15/50\n",
      "60000/60000 [==============================] - 5s 79us/step - loss: 10.1961 - acc: 0.0831 - val_loss: 10.1447 - val_acc: 0.1140\n",
      "Epoch 16/50\n",
      "60000/60000 [==============================] - 4s 73us/step - loss: 10.1907 - acc: 0.1569 - val_loss: 10.1383 - val_acc: 0.1486\n",
      "Epoch 17/50\n",
      "60000/60000 [==============================] - 4s 72us/step - loss: 10.1827 - acc: 0.1822 - val_loss: 10.1278 - val_acc: 0.1978\n",
      "Epoch 18/50\n",
      "60000/60000 [==============================] - 5s 75us/step - loss: 10.1671 - acc: 0.1988 - val_loss: 10.1030 - val_acc: 0.1971\n",
      "Epoch 19/50\n",
      "60000/60000 [==============================] - 5s 78us/step - loss: 8.9141 - acc: 0.1970 - val_loss: 6.1291 - val_acc: 0.2242\n",
      "Epoch 20/50\n",
      "60000/60000 [==============================] - 5s 76us/step - loss: 5.8413 - acc: 0.2228 - val_loss: 4.7732 - val_acc: 0.2326\n",
      "Epoch 21/50\n",
      "60000/60000 [==============================] - 5s 78us/step - loss: 4.7410 - acc: 0.2468 - val_loss: 4.7151 - val_acc: 0.2280\n",
      "Epoch 22/50\n",
      "60000/60000 [==============================] - 5s 82us/step - loss: 4.7219 - acc: 0.2582 - val_loss: 4.6472 - val_acc: 0.2773\n",
      "Epoch 23/50\n",
      "60000/60000 [==============================] - 4s 72us/step - loss: 4.6835 - acc: 0.2715 - val_loss: 4.6340 - val_acc: 0.2767\n",
      "Epoch 24/50\n",
      "60000/60000 [==============================] - 5s 78us/step - loss: 6.4361 - acc: 0.2050 - val_loss: 10.0647 - val_acc: 0.0982\n",
      "Epoch 25/50\n",
      "60000/60000 [==============================] - 5s 81us/step - loss: 8.8018 - acc: 0.1278 - val_loss: 8.7020 - val_acc: 0.1526\n",
      "Epoch 26/50\n",
      "60000/60000 [==============================] - 5s 77us/step - loss: 8.6586 - acc: 0.1556 - val_loss: 8.6931 - val_acc: 0.1896\n",
      "Epoch 27/50\n",
      "60000/60000 [==============================] - 5s 79us/step - loss: 8.6736 - acc: 0.1758 - val_loss: 8.6911 - val_acc: 0.1947\n",
      "Epoch 28/50\n",
      "60000/60000 [==============================] - 5s 77us/step - loss: 8.6505 - acc: 0.1894 - val_loss: 8.6888 - val_acc: 0.1966\n",
      "Epoch 29/50\n",
      "60000/60000 [==============================] - 5s 80us/step - loss: 8.6473 - acc: 0.1913 - val_loss: 8.6837 - val_acc: 0.1961\n",
      "Epoch 30/50\n",
      "60000/60000 [==============================] - 5s 83us/step - loss: 8.6429 - acc: 0.1961 - val_loss: 8.6799 - val_acc: 0.1977\n",
      "Epoch 31/50\n",
      "60000/60000 [==============================] - 5s 78us/step - loss: 8.6418 - acc: 0.1959 - val_loss: 8.6794 - val_acc: 0.1981\n",
      "Epoch 32/50\n",
      "60000/60000 [==============================] - 5s 81us/step - loss: 8.6372 - acc: 0.1968 - val_loss: 8.6757 - val_acc: 0.1982\n",
      "Epoch 33/50\n",
      "60000/60000 [==============================] - 4s 75us/step - loss: 8.6365 - acc: 0.1980 - val_loss: 8.6733 - val_acc: 0.1979\n",
      "Epoch 34/50\n",
      "60000/60000 [==============================] - 5s 79us/step - loss: 8.6305 - acc: 0.1990 - val_loss: 8.6724 - val_acc: 0.1981\n",
      "Epoch 35/50\n",
      "60000/60000 [==============================] - 5s 77us/step - loss: 8.6284 - acc: 0.1994 - val_loss: 8.6668 - val_acc: 0.1985\n",
      "Epoch 36/50\n",
      "60000/60000 [==============================] - 4s 73us/step - loss: 8.6264 - acc: 0.1995 - val_loss: 8.6655 - val_acc: 0.1987\n",
      "Epoch 37/50\n",
      "60000/60000 [==============================] - 4s 72us/step - loss: 9.1719 - acc: 0.1178 - val_loss: 9.1897 - val_acc: 0.0958\n",
      "Epoch 38/50\n",
      "60000/60000 [==============================] - 4s 73us/step - loss: 9.0864 - acc: 0.0986 - val_loss: 9.0785 - val_acc: 0.0958\n",
      "Epoch 39/50\n",
      "60000/60000 [==============================] - 4s 74us/step - loss: 9.0080 - acc: 0.0986 - val_loss: 9.0214 - val_acc: 0.0958\n",
      "Epoch 40/50\n",
      "60000/60000 [==============================] - 4s 74us/step - loss: 8.9619 - acc: 0.0986 - val_loss: 8.9836 - val_acc: 0.0958\n",
      "Epoch 41/50\n",
      "60000/60000 [==============================] - 5s 82us/step - loss: 8.9296 - acc: 0.0986 - val_loss: 8.9558 - val_acc: 0.0958\n",
      "Epoch 42/50\n",
      "60000/60000 [==============================] - 5s 84us/step - loss: 8.9051 - acc: 0.0986 - val_loss: 8.9340 - val_acc: 0.0958\n",
      "Epoch 43/50\n",
      "60000/60000 [==============================] - 5s 79us/step - loss: 8.8855 - acc: 0.0986 - val_loss: 8.9162 - val_acc: 0.0958\n",
      "Epoch 44/50\n",
      "60000/60000 [==============================] - 5s 77us/step - loss: 8.8693 - acc: 0.0986 - val_loss: 8.9013 - val_acc: 0.0958\n",
      "Epoch 45/50\n",
      "60000/60000 [==============================] - 5s 79us/step - loss: 8.8556 - acc: 0.0986 - val_loss: 8.8885 - val_acc: 0.0958\n",
      "Epoch 46/50\n",
      "60000/60000 [==============================] - 5s 80us/step - loss: 8.8438 - acc: 0.0986 - val_loss: 8.8774 - val_acc: 0.0958\n",
      "Epoch 47/50\n",
      "60000/60000 [==============================] - 5s 80us/step - loss: 8.8335 - acc: 0.0986 - val_loss: 8.8677 - val_acc: 0.0958\n",
      "Epoch 48/50\n",
      "60000/60000 [==============================] - 5s 79us/step - loss: 8.8244 - acc: 0.0986 - val_loss: 8.8591 - val_acc: 0.0958\n",
      "Epoch 49/50\n",
      "60000/60000 [==============================] - 5s 77us/step - loss: 8.8164 - acc: 0.0986 - val_loss: 8.8515 - val_acc: 0.0958\n",
      "Epoch 50/50\n",
      "60000/60000 [==============================] - 5s 76us/step - loss: 8.8092 - acc: 0.0986 - val_loss: 8.8446 - val_acc: 0.0958\n"
     ]
    },
    {
     "data": {
      "text/plain": [
       "<keras.callbacks.History at 0x25d1da19358>"
      ]
     },
     "execution_count": 37,
     "metadata": {},
     "output_type": "execute_result"
    }
   ],
   "source": [
    "# 训练模型\n",
    "lenet.fit(x_train,y_train,batch_size = 64,epochs=50,validation_data=[x_test,y_test])"
   ]
  },
  {
   "cell_type": "code",
   "execution_count": 38,
   "metadata": {
    "collapsed": true
   },
   "outputs": [],
   "source": [
    "# 保存模型\n",
    "lenet.save('keras_test1.h5') # 保存为HDF5文件"
   ]
  }
 ],
 "metadata": {
  "kernelspec": {
   "display_name": "Python 3.6 root",
   "language": "python",
   "name": "python3"
  },
  "language_info": {
   "codemirror_mode": {
    "name": "ipython",
    "version": 3
   },
   "file_extension": ".py",
   "mimetype": "text/x-python",
   "name": "python",
   "nbconvert_exporter": "python",
   "pygments_lexer": "ipython3",
   "version": "3.6.3"
  }
 },
 "nbformat": 4,
 "nbformat_minor": 2
}
